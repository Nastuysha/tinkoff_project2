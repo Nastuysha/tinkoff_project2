{
 "cells": [
  {
   "cell_type": "markdown",
   "id": "96ac1922",
   "metadata": {
    "id": "96ac1922"
   },
   "source": [
    "## Шаблон для проекта по A/B - тестам."
   ]
  },
  {
   "cell_type": "markdown",
   "id": "e01e5ec9",
   "metadata": {
    "id": "e01e5ec9"
   },
   "source": [
    "#### chat_id  из Телеграма:"
   ]
  },
  {
   "cell_type": "code",
   "execution_count": null,
   "id": "Of7L1OK6jEKT",
   "metadata": {
    "id": "Of7L1OK6jEKT"
   },
   "outputs": [],
   "source": [
    "chat_id = 1141722952"
   ]
  },
  {
   "cell_type": "code",
   "execution_count": 2,
   "id": "806ff4cf",
   "metadata": {},
   "outputs": [],
   "source": [
    "import pandas as pd\n",
    "import numpy as np\n",
    "import random\n",
    "import math\n",
    "import matplotlib.pyplot as plt\n",
    "from matplotlib.ticker import FuncFormatter\n",
    "from scipy.stats import mannwhitneyu, ks_2samp, probplot, norm, ttest_ind\n",
    "from statsmodels.stats.proportion import proportions_ztest\n",
    "from statsmodels.sandbox.stats.multicomp import multipletests"
   ]
  },
  {
   "cell_type": "markdown",
   "id": "1fb036f5",
   "metadata": {
    "id": "1fb036f5"
   },
   "source": [
    "------------------"
   ]
  },
  {
   "cell_type": "markdown",
   "id": "d8c6f14f",
   "metadata": {
    "id": "d8c6f14f"
   },
   "source": [
    "##  <ins>Задание 1.</ins>"
   ]
  },
  {
   "cell_type": "markdown",
   "id": "cMi1ZWvej6zB",
   "metadata": {
    "id": "cMi1ZWvej6zB"
   },
   "source": [
    "### Условие\n",
    "#### Контекст\n",
    "Мы считаем, что наш продукт достаточно дорогой для клиента. У нас есть гипотеза, что уменьшение цены продукта позволит повысить частоту продаж и суммарно увеличит доходность продукта.\n",
    "#### Тест\n",
    "Мы проводим тест, в рамках которого контролем является продажа продукта со старой ценой, а тестом - продажа продукта с новой ценой. Целью этого теста является проверка гипотезы роста доходности нашего продукта из-за уменьшения тарифа.\n",
    "#### Статистические вводные\n",
    "Уровень значимости 5%. Мы хотели бы различать 5%-ное изменение целевой метрики с вероятностью 80%."
   ]
  },
  {
   "cell_type": "markdown",
   "id": "4be80e71",
   "metadata": {},
   "source": [
    "Загрузим исторические данные"
   ]
  },
  {
   "cell_type": "code",
   "execution_count": 5,
   "id": "5bcb83f9",
   "metadata": {},
   "outputs": [
    {
     "data": {
      "text/html": [
       "<div>\n",
       "<style scoped>\n",
       "    .dataframe tbody tr th:only-of-type {\n",
       "        vertical-align: middle;\n",
       "    }\n",
       "\n",
       "    .dataframe tbody tr th {\n",
       "        vertical-align: top;\n",
       "    }\n",
       "\n",
       "    .dataframe thead th {\n",
       "        text-align: right;\n",
       "    }\n",
       "</style>\n",
       "<table border=\"1\" class=\"dataframe\">\n",
       "  <thead>\n",
       "    <tr style=\"text-align: right;\">\n",
       "      <th></th>\n",
       "      <th>ID</th>\n",
       "      <th>Флаг дозвона</th>\n",
       "      <th>Флаг продажи</th>\n",
       "      <th>Расходы</th>\n",
       "      <th>PV</th>\n",
       "      <th>NPV</th>\n",
       "    </tr>\n",
       "  </thead>\n",
       "  <tbody>\n",
       "    <tr>\n",
       "      <th>0</th>\n",
       "      <td>0</td>\n",
       "      <td>1</td>\n",
       "      <td>0</td>\n",
       "      <td>90</td>\n",
       "      <td>0</td>\n",
       "      <td>-90</td>\n",
       "    </tr>\n",
       "    <tr>\n",
       "      <th>1</th>\n",
       "      <td>1</td>\n",
       "      <td>0</td>\n",
       "      <td>0</td>\n",
       "      <td>5</td>\n",
       "      <td>0</td>\n",
       "      <td>-5</td>\n",
       "    </tr>\n",
       "    <tr>\n",
       "      <th>2</th>\n",
       "      <td>2</td>\n",
       "      <td>0</td>\n",
       "      <td>0</td>\n",
       "      <td>68</td>\n",
       "      <td>0</td>\n",
       "      <td>-68</td>\n",
       "    </tr>\n",
       "    <tr>\n",
       "      <th>3</th>\n",
       "      <td>3</td>\n",
       "      <td>1</td>\n",
       "      <td>0</td>\n",
       "      <td>22</td>\n",
       "      <td>0</td>\n",
       "      <td>-22</td>\n",
       "    </tr>\n",
       "    <tr>\n",
       "      <th>4</th>\n",
       "      <td>4</td>\n",
       "      <td>1</td>\n",
       "      <td>0</td>\n",
       "      <td>22</td>\n",
       "      <td>0</td>\n",
       "      <td>-22</td>\n",
       "    </tr>\n",
       "  </tbody>\n",
       "</table>\n",
       "</div>"
      ],
      "text/plain": [
       "   ID  Флаг дозвона  Флаг продажи  Расходы  PV  NPV\n",
       "0   0             1             0       90   0  -90\n",
       "1   1             0             0        5   0   -5\n",
       "2   2             0             0       68   0  -68\n",
       "3   3             1             0       22   0  -22\n",
       "4   4             1             0       22   0  -22"
      ]
     },
     "execution_count": 5,
     "metadata": {},
     "output_type": "execute_result"
    }
   ],
   "source": [
    "df = pd.read_csv('hist_telesales.csv')\n",
    "df.head()"
   ]
  },
  {
   "cell_type": "markdown",
   "id": "20fef163",
   "metadata": {},
   "source": [
    "Описание колонок в исторических данных:\n",
    "- ID - номер задания на звонок\n",
    "- Флаг дозвона - 1 если в рамках задания мы дозвонились человеку, иначе 0\n",
    "- Флаг продажи - 1 если в рамках задания мы продали наш продукт человеку, иначе 0\n",
    "- Расходы - сумма затрат на задание\n",
    "- PV - 0 если мы не продали наш продукт, иначе = PV проданного продукта\n",
    "- NPV = PV - Расходы"
   ]
  },
  {
   "cell_type": "markdown",
   "id": "0dd4c840",
   "metadata": {
    "id": "0dd4c840"
   },
   "source": [
    "### Определение целевой метрики"
   ]
  },
  {
   "cell_type": "markdown",
   "id": "3ba3f804",
   "metadata": {
    "id": "vG7kmtMEjHOU"
   },
   "source": [
    "Целевая метрика - NPV, ожидаемый эффект - повышение среднего значения NPV продукта. За счет увеличения частоты продаж и снижения цены общая выручка увеличится и это будет показателем для оценки успеха гипотезы."
   ]
  },
  {
   "cell_type": "markdown",
   "id": "9e6cd4a6",
   "metadata": {},
   "source": [
    "Введем основную и альтернативную гипотезы:\n",
    "- H0: Среднее значение NPV в тестовой и контрольной группах одинаково\n",
    "- H1: Среднее значение NPV в тестовой группе больше, чем в контрольной\n",
    "\n",
    "Уровень значимости a = 0.05"
   ]
  },
  {
   "cell_type": "markdown",
   "id": "17834ab1",
   "metadata": {},
   "source": [
    "Прокси метрики:\n",
    "- кумулятивное значение NPV\n",
    "- среднее значение NPV\n",
    "- изменение NPV тестовой группы относительно контрольной группы\n",
    "\n",
    "Контрольные метрики:\n",
    "- конверсия из заявки в продажу продукта\n",
    "- общая выручка"
   ]
  },
  {
   "cell_type": "markdown",
   "id": "727aefc4",
   "metadata": {
    "id": "727aefc4"
   },
   "source": [
    "### Определение размера выборки"
   ]
  },
  {
   "cell_type": "markdown",
   "id": "0a227759",
   "metadata": {
    "id": "fYijOurfjLNp"
   },
   "source": [
    "Так как хотим проверить одностороннюю альтернативу и имеем небинарное распределение, то минимальный размер выборки будет вычисляться как:\n",
    "\n",
    "$$ n = m = \\frac{2\\sigma^2(z_{1-\\alpha} - z_\\beta)^2}{d^2}$$"
   ]
  },
  {
   "cell_type": "code",
   "execution_count": 9,
   "id": "9vCrM3wcjM0H",
   "metadata": {
    "id": "9vCrM3wcjM0H"
   },
   "outputs": [
    {
     "name": "stdout",
     "output_type": "stream",
     "text": [
      "Размер выборки:\n",
      "28672\n"
     ]
    }
   ],
   "source": [
    "alp = 0.05\n",
    "bet = 0.2\n",
    "ism = 0.05\n",
    "variance = df['NPV'].var()\n",
    "d = df['NPV'].mean() * ism\n",
    "\n",
    "sample_size = (2 * variance * (norm.ppf(1.0 - alp) - norm.ppf(bet)) ** 2) / (d ** 2)\n",
    "print('Размер выборки:')\n",
    "print(round(sample_size))"
   ]
  },
  {
   "cell_type": "markdown",
   "id": "04d81fcf",
   "metadata": {},
   "source": [
    "Размер выборки получается: 28672\n",
    "Получение выборки от бота:"
   ]
  },
  {
   "cell_type": "code",
   "execution_count": 11,
   "id": "cd5f1550",
   "metadata": {},
   "outputs": [
    {
     "data": {
      "text/html": [
       "<div>\n",
       "<style scoped>\n",
       "    .dataframe tbody tr th:only-of-type {\n",
       "        vertical-align: middle;\n",
       "    }\n",
       "\n",
       "    .dataframe tbody tr th {\n",
       "        vertical-align: top;\n",
       "    }\n",
       "\n",
       "    .dataframe thead th {\n",
       "        text-align: right;\n",
       "    }\n",
       "</style>\n",
       "<table border=\"1\" class=\"dataframe\">\n",
       "  <thead>\n",
       "    <tr style=\"text-align: right;\">\n",
       "      <th></th>\n",
       "      <th>ID</th>\n",
       "      <th>Флаг дозвона</th>\n",
       "      <th>Флаг продажи</th>\n",
       "      <th>Расходы</th>\n",
       "      <th>PV</th>\n",
       "      <th>NPV</th>\n",
       "    </tr>\n",
       "  </thead>\n",
       "  <tbody>\n",
       "    <tr>\n",
       "      <th>0</th>\n",
       "      <td>0</td>\n",
       "      <td>1</td>\n",
       "      <td>1</td>\n",
       "      <td>111</td>\n",
       "      <td>1756</td>\n",
       "      <td>1645</td>\n",
       "    </tr>\n",
       "    <tr>\n",
       "      <th>1</th>\n",
       "      <td>1</td>\n",
       "      <td>1</td>\n",
       "      <td>1</td>\n",
       "      <td>338</td>\n",
       "      <td>1202</td>\n",
       "      <td>864</td>\n",
       "    </tr>\n",
       "    <tr>\n",
       "      <th>2</th>\n",
       "      <td>2</td>\n",
       "      <td>1</td>\n",
       "      <td>0</td>\n",
       "      <td>44</td>\n",
       "      <td>0</td>\n",
       "      <td>-44</td>\n",
       "    </tr>\n",
       "    <tr>\n",
       "      <th>3</th>\n",
       "      <td>3</td>\n",
       "      <td>1</td>\n",
       "      <td>1</td>\n",
       "      <td>443</td>\n",
       "      <td>2089</td>\n",
       "      <td>1646</td>\n",
       "    </tr>\n",
       "    <tr>\n",
       "      <th>4</th>\n",
       "      <td>4</td>\n",
       "      <td>0</td>\n",
       "      <td>0</td>\n",
       "      <td>52</td>\n",
       "      <td>0</td>\n",
       "      <td>-52</td>\n",
       "    </tr>\n",
       "  </tbody>\n",
       "</table>\n",
       "</div>"
      ],
      "text/plain": [
       "   ID  Флаг дозвона  Флаг продажи  Расходы    PV   NPV\n",
       "0   0             1             1      111  1756  1645\n",
       "1   1             1             1      338  1202   864\n",
       "2   2             1             0       44     0   -44\n",
       "3   3             1             1      443  2089  1646\n",
       "4   4             0             0       52     0   -52"
      ]
     },
     "execution_count": 11,
     "metadata": {},
     "output_type": "execute_result"
    }
   ],
   "source": [
    "sample_id = 38867\n",
    "control = pd.read_csv('Контроль.csv')\n",
    "control.head()"
   ]
  },
  {
   "cell_type": "code",
   "execution_count": 13,
   "id": "e8cd6ce7",
   "metadata": {},
   "outputs": [
    {
     "data": {
      "text/html": [
       "<div>\n",
       "<style scoped>\n",
       "    .dataframe tbody tr th:only-of-type {\n",
       "        vertical-align: middle;\n",
       "    }\n",
       "\n",
       "    .dataframe tbody tr th {\n",
       "        vertical-align: top;\n",
       "    }\n",
       "\n",
       "    .dataframe thead th {\n",
       "        text-align: right;\n",
       "    }\n",
       "</style>\n",
       "<table border=\"1\" class=\"dataframe\">\n",
       "  <thead>\n",
       "    <tr style=\"text-align: right;\">\n",
       "      <th></th>\n",
       "      <th>ID</th>\n",
       "      <th>Флаг дозвона</th>\n",
       "      <th>Флаг продажи</th>\n",
       "      <th>Расходы</th>\n",
       "      <th>PV</th>\n",
       "      <th>NPV</th>\n",
       "    </tr>\n",
       "  </thead>\n",
       "  <tbody>\n",
       "    <tr>\n",
       "      <th>0</th>\n",
       "      <td>0</td>\n",
       "      <td>0</td>\n",
       "      <td>0</td>\n",
       "      <td>8</td>\n",
       "      <td>0</td>\n",
       "      <td>-8</td>\n",
       "    </tr>\n",
       "    <tr>\n",
       "      <th>1</th>\n",
       "      <td>1</td>\n",
       "      <td>0</td>\n",
       "      <td>0</td>\n",
       "      <td>170</td>\n",
       "      <td>0</td>\n",
       "      <td>-170</td>\n",
       "    </tr>\n",
       "    <tr>\n",
       "      <th>2</th>\n",
       "      <td>2</td>\n",
       "      <td>0</td>\n",
       "      <td>0</td>\n",
       "      <td>2</td>\n",
       "      <td>0</td>\n",
       "      <td>-2</td>\n",
       "    </tr>\n",
       "    <tr>\n",
       "      <th>3</th>\n",
       "      <td>3</td>\n",
       "      <td>1</td>\n",
       "      <td>1</td>\n",
       "      <td>160</td>\n",
       "      <td>1547</td>\n",
       "      <td>1387</td>\n",
       "    </tr>\n",
       "    <tr>\n",
       "      <th>4</th>\n",
       "      <td>4</td>\n",
       "      <td>1</td>\n",
       "      <td>0</td>\n",
       "      <td>21</td>\n",
       "      <td>0</td>\n",
       "      <td>-21</td>\n",
       "    </tr>\n",
       "  </tbody>\n",
       "</table>\n",
       "</div>"
      ],
      "text/plain": [
       "   ID  Флаг дозвона  Флаг продажи  Расходы    PV   NPV\n",
       "0   0             0             0        8     0    -8\n",
       "1   1             0             0      170     0  -170\n",
       "2   2             0             0        2     0    -2\n",
       "3   3             1             1      160  1547  1387\n",
       "4   4             1             0       21     0   -21"
      ]
     },
     "execution_count": 13,
     "metadata": {},
     "output_type": "execute_result"
    }
   ],
   "source": [
    "test = pd.read_csv('Тест.csv')\n",
    "test.head()"
   ]
  },
  {
   "cell_type": "markdown",
   "id": "22e2d9b0",
   "metadata": {
    "id": "22e2d9b0"
   },
   "source": [
    "### Принятие решения о тесте"
   ]
  },
  {
   "cell_type": "markdown",
   "id": "27fa4fe9",
   "metadata": {
    "id": "C9NO-_o3jON1"
   },
   "source": [
    "Рассчитаем для тестовой и контрольной группы метрики:\n",
    "- кумулятивное значение NPV\n",
    "- среднее значение NPV\n",
    "- сумму продаж продукта\n",
    "- конверсия из заявки в продажу продукта"
   ]
  },
  {
   "cell_type": "code",
   "execution_count": 22,
   "id": "97d19617",
   "metadata": {},
   "outputs": [],
   "source": [
    "test['cum_NPV'] = test['NPV'].cumsum()\n",
    "test['average_NPV'] = test['NPV'].expanding(min_periods=1).mean()\n",
    "test['sale_flag'] = test['Флаг продажи'].sum()\n",
    "test['conversion'] = test['sale_flag'] / len(test)"
   ]
  },
  {
   "cell_type": "code",
   "execution_count": 23,
   "id": "13ba11ab",
   "metadata": {},
   "outputs": [],
   "source": [
    "control['cum_NPV'] = control['NPV'].cumsum()\n",
    "control['average_NPV'] = control['NPV'].expanding(min_periods=1).mean()\n",
    "control['sale_flag'] = control['Флаг продажи'].sum()\n",
    "control['conversion'] = control['sale_flag'] / len(control)"
   ]
  },
  {
   "cell_type": "markdown",
   "id": "a6c6e985",
   "metadata": {},
   "source": [
    "Объединим результаты в датафрейм"
   ]
  },
  {
   "cell_type": "code",
   "execution_count": 24,
   "id": "1e880f2b",
   "metadata": {},
   "outputs": [
    {
     "data": {
      "text/html": [
       "<div>\n",
       "<style scoped>\n",
       "    .dataframe tbody tr th:only-of-type {\n",
       "        vertical-align: middle;\n",
       "    }\n",
       "\n",
       "    .dataframe tbody tr th {\n",
       "        vertical-align: top;\n",
       "    }\n",
       "\n",
       "    .dataframe thead th {\n",
       "        text-align: right;\n",
       "    }\n",
       "</style>\n",
       "<table border=\"1\" class=\"dataframe\">\n",
       "  <thead>\n",
       "    <tr style=\"text-align: right;\">\n",
       "      <th></th>\n",
       "      <th>ID</th>\n",
       "      <th>cum_NPV_control</th>\n",
       "      <th>average_NPV_control</th>\n",
       "      <th>conversion_control</th>\n",
       "      <th>cum_NPV_test</th>\n",
       "      <th>average_NPV_test</th>\n",
       "      <th>conversion_test</th>\n",
       "    </tr>\n",
       "  </thead>\n",
       "  <tbody>\n",
       "    <tr>\n",
       "      <th>0</th>\n",
       "      <td>0</td>\n",
       "      <td>1645</td>\n",
       "      <td>1645.000000</td>\n",
       "      <td>0.295619</td>\n",
       "      <td>-8</td>\n",
       "      <td>-8.00</td>\n",
       "      <td>0.301409</td>\n",
       "    </tr>\n",
       "    <tr>\n",
       "      <th>1</th>\n",
       "      <td>1</td>\n",
       "      <td>2509</td>\n",
       "      <td>1254.500000</td>\n",
       "      <td>0.295619</td>\n",
       "      <td>-178</td>\n",
       "      <td>-89.00</td>\n",
       "      <td>0.301409</td>\n",
       "    </tr>\n",
       "    <tr>\n",
       "      <th>2</th>\n",
       "      <td>2</td>\n",
       "      <td>2465</td>\n",
       "      <td>821.666667</td>\n",
       "      <td>0.295619</td>\n",
       "      <td>-180</td>\n",
       "      <td>-60.00</td>\n",
       "      <td>0.301409</td>\n",
       "    </tr>\n",
       "    <tr>\n",
       "      <th>3</th>\n",
       "      <td>3</td>\n",
       "      <td>4111</td>\n",
       "      <td>1027.750000</td>\n",
       "      <td>0.295619</td>\n",
       "      <td>1207</td>\n",
       "      <td>301.75</td>\n",
       "      <td>0.301409</td>\n",
       "    </tr>\n",
       "    <tr>\n",
       "      <th>4</th>\n",
       "      <td>4</td>\n",
       "      <td>4059</td>\n",
       "      <td>811.800000</td>\n",
       "      <td>0.295619</td>\n",
       "      <td>1186</td>\n",
       "      <td>237.20</td>\n",
       "      <td>0.301409</td>\n",
       "    </tr>\n",
       "  </tbody>\n",
       "</table>\n",
       "</div>"
      ],
      "text/plain": [
       "   ID  cum_NPV_control  average_NPV_control  conversion_control  cum_NPV_test  \\\n",
       "0   0             1645          1645.000000            0.295619            -8   \n",
       "1   1             2509          1254.500000            0.295619          -178   \n",
       "2   2             2465           821.666667            0.295619          -180   \n",
       "3   3             4111          1027.750000            0.295619          1207   \n",
       "4   4             4059           811.800000            0.295619          1186   \n",
       "\n",
       "   average_NPV_test  conversion_test  \n",
       "0             -8.00         0.301409  \n",
       "1            -89.00         0.301409  \n",
       "2            -60.00         0.301409  \n",
       "3            301.75         0.301409  \n",
       "4            237.20         0.301409  "
      ]
     },
     "execution_count": 24,
     "metadata": {},
     "output_type": "execute_result"
    }
   ],
   "source": [
    "data = (control[['ID', \n",
    "                 'cum_NPV', \n",
    "                 'average_NPV',\n",
    "                 'conversion']]\n",
    "        .merge(test[['ID', \n",
    "                    'cum_NPV', \n",
    "                    'average_NPV', \n",
    "                    'conversion']],\n",
    "                left_on='ID', \n",
    "                right_on='ID',\n",
    "                how='left', \n",
    "                suffixes=['_control', '_test']))\n",
    "data.head()"
   ]
  },
  {
   "cell_type": "markdown",
   "id": "03b9269f",
   "metadata": {},
   "source": [
    "Рассмотрим, как тестирование повлияло на контрольные и прокси метрики. Построим график кумулятивного NPV, которое выбрали в качестве прокси метрики."
   ]
  },
  {
   "cell_type": "code",
   "execution_count": 35,
   "id": "c4b1cb95",
   "metadata": {},
   "outputs": [
    {
     "data": {
      "image/png": "[encoded data removed]",
      "text/plain": [
       "<Figure size 1200x800 with 1 Axes>"
      ]
     },
     "metadata": {},
     "output_type": "display_data"
    }
   ],
   "source": [
    "plt.figure(figsize=(12, 8))\n",
    "plt.plot(test['ID'], test['cum_NPV'], label='Тестовая группа')\n",
    "plt.plot(control['ID'], control['cum_NPV'], label='Контрольная группа')\n",
    "\n",
    "current_values = plt.gca().get_yticks()\n",
    "plt.title('NPV тестовой и контрольной группы')\n",
    "plt.ylabel('NPV')\n",
    "plt.xlabel('Заявки')\n",
    "plt.legend()\n",
    "plt.show();"
   ]
  },
  {
   "cell_type": "markdown",
   "id": "e54d4e1c",
   "metadata": {},
   "source": [
    "Как видно из графика, тестовая группа продемонстрировала более высокий уровень кумулятивного NPV начиная с трети теста, что могло бы указывать на значимые различия в группах.\n",
    "\n",
    "Также рассмотрим график среднего значения NPV, которая также является одной из выбранных прокси метрик."
   ]
  },
  {
   "cell_type": "code",
   "execution_count": 44,
   "id": "33138dce",
   "metadata": {},
   "outputs": [
    {
     "data": {
      "image/png": "[encoded data removed]",
      "text/plain": [
       "<Figure size 1200x800 with 1 Axes>"
      ]
     },
     "metadata": {},
     "output_type": "display_data"
    }
   ],
   "source": [
    "plt.figure(figsize=(12, 8))\n",
    "plt.plot(test['ID'], test['average_NPV'], label='Тестовая группа')\n",
    "plt.plot(control['ID'], control['average_NPV'], label='Контрольная группа')\n",
    "\n",
    "\n",
    "current_values = plt.gca().get_yticks()\n",
    "plt.title('Среднее NPV тестовой и контрольной группы')\n",
    "plt.ylabel('Среднее NPV')\n",
    "plt.xlabel('Заявки')\n",
    "plt.legend()\n",
    "plt.show();"
   ]
  },
  {
   "cell_type": "markdown",
   "id": "f9e15111",
   "metadata": {
    "id": "f9e15111"
   },
   "source": [
    "------------------"
   ]
  },
  {
   "cell_type": "markdown",
   "id": "d871be8c",
   "metadata": {},
   "source": [
    "Как видно из графика, тестовая группа и контрольная группа продемонстрировали очень схожий уровень среднего NPV на протяжении всего теста.\n",
    "Построим также график конверсии тестовой группы к контрольной"
   ]
  },
  {
   "cell_type": "code",
   "execution_count": 46,
   "id": "c62f6bcd",
   "metadata": {},
   "outputs": [
    {
     "data": {
      "image/png": "[encoded data removed]",
      "text/plain": [
       "<Figure size 1200x800 with 1 Axes>"
      ]
     },
     "metadata": {},
     "output_type": "display_data"
    }
   ],
   "source": [
    "plt.figure(figsize=(12, 8))\n",
    "plt.ylim(-1,1)\n",
    "plt.plot(test['ID'], test['conversion'], label='Тестовая группа')\n",
    "plt.plot(control['ID'], control['conversion'], label='Контрольная группа')\n",
    "\n",
    "\n",
    "current_values = plt.gca().get_yticks()\n",
    "plt.title('Конверсия тестовой и контрольной группы')\n",
    "plt.ylabel('Конверсия')\n",
    "plt.xlabel('Заявки')\n",
    "plt.legend()\n",
    "plt.show();"
   ]
  },
  {
   "cell_type": "markdown",
   "id": "3368ccfd",
   "metadata": {},
   "source": [
    "Как видно из графика, значение конверсии тестовой группы было таким же, что и у контрольной группы."
   ]
  },
  {
   "cell_type": "markdown",
   "id": "951896e4",
   "metadata": {},
   "source": [
    "Воспользуемся критерием Стьюдента для сравнения различий между NPV тестовой и контрольной группы."
   ]
  },
  {
   "cell_type": "code",
   "execution_count": 48,
   "id": "c603c4e5",
   "metadata": {},
   "outputs": [
    {
     "name": "stdout",
     "output_type": "stream",
     "text": [
      "Процентное различие между средними выборок: 0.032\n",
      "p-value:  0.05258743053694122\n",
      "Не отвергаем нулевую гипотезу\n"
     ]
    }
   ],
   "source": [
    "stat, p_value = ttest_ind(test['NPV'], control['NPV'], alternative='greater')\n",
    "\n",
    "print('Процентное различие между средними выборок:',\n",
    "    '{0:.3f}'.format(\n",
    "    test['NPV'].mean()/control['NPV'].mean()-1))\n",
    "\n",
    "print('p-value: ', p_value)\n",
    "\n",
    "if p_value < 0.05:\n",
    "    print('Отвергаем нулевую гипотезу')\n",
    "else:\n",
    "    print('Не отвергаем нулевую гипотезу')"
   ]
  },
  {
   "cell_type": "markdown",
   "id": "0f4fa20e",
   "metadata": {},
   "source": [
    "Между средними выборок различие в 3.2%, но данное различие не имеет статистической значимости. Полученное p-value составляет 0.0525, что больше уровня значимости 0.05. У нас недостаточно оснований, чтобы отклонить нулевую гипотезу. Процентное различие между средними выборок в размере 3.2% могло быть получено случайно с вероятностью 5.25%."
   ]
  },
  {
   "cell_type": "markdown",
   "id": "99ea48f0",
   "metadata": {},
   "source": [
    "Так как мы не обнаружили статистической значимости в целевой метрике, рассмотрим различия в конверсии, которая выступает в роли контрольной метрики. Проведем Z-test Фишера."
   ]
  },
  {
   "cell_type": "code",
   "execution_count": 49,
   "id": "efb85a34",
   "metadata": {},
   "outputs": [
    {
     "name": "stdout",
     "output_type": "stream",
     "text": [
      "p-value:  0.0649040873448957\n",
      "Доля тестовой группы: 0.30140904017857145\n",
      "Доля контрольной группы: 0.29561941964285715\n",
      "Разница: 0.005789620535714302\n",
      "Не отвергаем нулевую гипотезу\n"
     ]
    }
   ],
   "source": [
    "successes = np.array([test['Флаг продажи'].sum(), control['Флаг продажи'].sum()])\n",
    "trials = np.array([len(test), len(control)])\n",
    "\n",
    "stat, pval = proportions_ztest(successes, trials, alternative='larger')\n",
    "\n",
    "p1 = successes[0]/trials[0]\n",
    "p2 = successes[1]/trials[1]\n",
    "\n",
    "print('p-value: ', pval)\n",
    "print('Доля тестовой группы:', p1)\n",
    "print('Доля контрольной группы:', p2)\n",
    "print('Разница:', (p1 - p2))\n",
    "\n",
    "if pval < 0.05:\n",
    "    print('Отвергаем нулевую гипотезу')\n",
    "else:\n",
    "    print('Не отвергаем нулевую гипотезу')\n"
   ]
  },
  {
   "cell_type": "markdown",
   "id": "08dd8044",
   "metadata": {},
   "source": [
    "Таким образом, в процессе проверки гипотез не было обнаружено статистически значимых различий в целевой метрике NPV и также не было обнаружено статистически значимых различий в конверсии групп.\n",
    "\n",
    "Подводя итоги A/B-тестирования, можно утверждать, что тестовая группа не показала статистически значимых различий в доходности продукта. Уменьшение цены продукта не помогло увеличить частоту продаж. Общее увеличение доходности в метрике NPV могло произойти случайно."
   ]
  }
 ],
 "metadata": {
  "colab": {
   "provenance": []
  },
  "kernelspec": {
   "display_name": "Python 3 (ipykernel)",
   "language": "python",
   "name": "python3"
  },
  "language_info": {
   "codemirror_mode": {
    "name": "ipython",
    "version": 3
   },
   "file_extension": ".py",
   "mimetype": "text/x-python",
   "name": "python",
   "nbconvert_exporter": "python",
   "pygments_lexer": "ipython3",
   "version": "3.11.2"
  }
 },
 "nbformat": 4,
 "nbformat_minor": 5
}
